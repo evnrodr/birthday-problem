{
 "cells": [
  {
   "cell_type": "markdown",
   "metadata": {},
   "source": [
    "# Birthday Problem\n",
    "\n",
    "What is the chance of two people in a room having the same birthday date? This question is anwsered by the Birthday Problem (or Paradox), stated by Richard von Mises.\n",
    "\n",
    "You can read more about it in here: [Birthday Problem from Wikipedia](https://en.wikipedia.org/wiki/Birthday_problem)."
   ]
  },
  {
   "cell_type": "markdown",
   "metadata": {},
   "source": [
    "### Initial Settings and Configurations"
   ]
  },
  {
   "cell_type": "code",
   "execution_count": 1,
   "metadata": {},
   "outputs": [],
   "source": [
    "## Needed libraries\n",
    "\n",
    "import matplotlib.pyplot as plt\n",
    "import os\n",
    "import imageio"
   ]
  },
  {
   "cell_type": "code",
   "execution_count": 2,
   "metadata": {},
   "outputs": [],
   "source": [
    "## Defining Matplotlib's backend\n",
    "\n",
    "%matplotlib inline"
   ]
  },
  {
   "cell_type": "code",
   "execution_count": 3,
   "metadata": {},
   "outputs": [],
   "source": [
    "## Defining the style for plottings\n",
    "\n",
    "plt.style.use(\"seaborn-whitegrid\")"
   ]
  },
  {
   "cell_type": "code",
   "execution_count": 4,
   "metadata": {},
   "outputs": [],
   "source": [
    "## Global customizations for plotting\n",
    "\n",
    "# Figure\n",
    "\n",
    "plt.rcParams['figure.titlesize'] = 16\n",
    "plt.rcParams['figure.titleweight'] = 600\n",
    "\n",
    "# Axes\n",
    "\n",
    "plt.rcParams['axes.formatter.useoffset'] = False\n",
    "plt.rcParams['axes.labelweight'] = 600\n",
    "plt.rcParams['axes.labelsize'] = 12\n",
    "plt.rcParams['axes.spines.top'] = False\n",
    "plt.rcParams['axes.spines.right'] = False\n",
    "plt.rcParams['axes.spines.bottom'] = False\n",
    "plt.rcParams['axes.spines.left'] = False\n",
    "plt.rcParams['axes.xmargin'] = 0.05\n",
    "plt.rcParams['axes.titleweight'] = 600\n",
    "plt.rcParams['axes.grid'] = True\n",
    "plt.rcParams['axes.grid.axis'] = 'y'\n",
    "\n",
    "# Ticks\n",
    "\n",
    "plt.rcParams['xtick.labelsize'] = 12\n",
    "plt.rcParams['ytick.labelsize'] = 12\n",
    "\n",
    "# Grid\n",
    "\n",
    "plt.rcParams['grid.color'] = 'lightgray'\n",
    "plt.rcParams['grid.linestyle'] = '--'\n",
    "plt.rcParams['grid.linewidth'] = 1\n",
    "plt.rcParams['grid.alpha'] = 0.4\n",
    "\n",
    "# Minor\n",
    "\n",
    "plt.rcParams['font.family'] = 'sans-serif'\n",
    "plt.rcParams['lines.linewidth'] = 2"
   ]
  },
  {
   "cell_type": "markdown",
   "metadata": {},
   "source": [
    "### Utility Functions"
   ]
  },
  {
   "cell_type": "code",
   "execution_count": 5,
   "metadata": {},
   "outputs": [],
   "source": [
    "def float_to_percent(float_list):\n",
    "    return list(map(lambda number: number*100, float_list))"
   ]
  },
  {
   "cell_type": "markdown",
   "metadata": {},
   "source": [
    "### Generating Chart"
   ]
  },
  {
   "cell_type": "code",
   "execution_count": 6,
   "metadata": {},
   "outputs": [],
   "source": [
    "def generate_chart(n_people_list, index, y, y_c, prob):\n",
    "    # Creating the figure\n",
    "    fig, ax = plt.subplots(1, 1, figsize=(12, 14), dpi=100)\n",
    "    \n",
    "    # Customizing the figure\n",
    "    fig.subplots_adjust(top=0.92)\n",
    "    fig.suptitle(\"Birthday Problem\")\n",
    "    fig.text(.5, .06, \"Autor: Evandro Rodrigues\", ha='center', fontsize=\"14\", fontweight=600)\n",
    "    \n",
    "    # Adding data to the axis\n",
    "    ax.plot(n_people_list, float_to_percent(y_c), aa=True, c='darkred', ls='--', lw=3.5, label=\"Probability of a pair not matching\")\n",
    "    ax.plot(n_people_list, float_to_percent(y), aa=True, c='red', ls='-', lw=3.5, label=\"Probability of a pair matching birthday\")\n",
    "    \n",
    "    # Customizing the axis\n",
    "    ax.set_title(f\"Number of People: {index}\\nProbability: {round((prob * 100), 4)}%\", fontsize=14)\n",
    "    ax.set_xlabel(\"Number of people\")\n",
    "    ax.set_ylabel(\"Birthday %\")\n",
    "    ax.tick_params(axis='x', which='both', length=5, width=1.5, color='lightgray')\n",
    "    ax.legend(prop=dict(weight='bold'))\n",
    "    ax.locator_params(integer=True)\n",
    "    ax.xaxis.get_major_formatter().set_scientific(False)\n",
    "    ax.yaxis.get_major_formatter().set_scientific(False)\n",
    "        \n",
    "    # Saving the chart\n",
    "    plt.savefig(f'outputs/birthday_problem0{index}.png') if index < 10 else plt.savefig(f'outputs/birthday_problem{index}.png')\n",
    "    \n",
    "    # Closing the chart\n",
    "    plt.close()"
   ]
  },
  {
   "cell_type": "markdown",
   "metadata": {},
   "source": [
    "### Generating Data"
   ]
  },
  {
   "cell_type": "code",
   "execution_count": 7,
   "metadata": {},
   "outputs": [],
   "source": [
    "def generate_data(n_people):\n",
    "\n",
    "    # Useful variables\n",
    "    number_of_days = 365\n",
    "    total_product = 1\n",
    "    n_people = n_people\n",
    "\n",
    "    # Useful lists\n",
    "    n_people_list = []\n",
    "    probability = []\n",
    "    probability_c = []\n",
    "\n",
    "    # For every amount of people from 1 to n_people+1\n",
    "    for i in range (1, n_people+1):\n",
    "        total_product = 1\n",
    "        \n",
    "        for day in range(0, i):\n",
    "            total_product *= (number_of_days - day) / number_of_days\n",
    "        \n",
    "        prob = 1 - total_product\n",
    "        \n",
    "        n_people_list.append(i)\n",
    "        probability_c.append(total_product)\n",
    "        probability.append(prob)\n",
    "        \n",
    "        generate_chart(n_people_list, i, probability, probability_c, prob)"
   ]
  },
  {
   "cell_type": "code",
   "execution_count": 8,
   "metadata": {},
   "outputs": [],
   "source": [
    "generate_data(99)"
   ]
  },
  {
   "cell_type": "code",
   "execution_count": 15,
   "metadata": {},
   "outputs": [],
   "source": [
    "# Creating animation\n",
    "\n",
    "png_dir = 'outputs/'\n",
    "images = []\n",
    "\n",
    "for file_name in os.listdir(png_dir):\n",
    "    if file_name.endswith('.png'):\n",
    "        file_path = os.path.join(png_dir, file_name)\n",
    "        images.append(imageio.imread(file_path))\n",
    "        \n",
    "imageio.mimsave('output.gif', images, duration=0.15)"
   ]
  }
 ],
 "metadata": {
  "kernelspec": {
   "display_name": "Python 3",
   "language": "python",
   "name": "python3"
  },
  "language_info": {
   "codemirror_mode": {
    "name": "ipython",
    "version": 3
   },
   "file_extension": ".py",
   "mimetype": "text/x-python",
   "name": "python",
   "nbconvert_exporter": "python",
   "pygments_lexer": "ipython3",
   "version": "3.8.5"
  }
 },
 "nbformat": 4,
 "nbformat_minor": 4
}
